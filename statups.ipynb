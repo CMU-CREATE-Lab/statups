{
 "cells": [
  {
   "cell_type": "code",
   "execution_count": 100,
   "metadata": {},
   "outputs": [
    {
     "data": {
      "text/html": [
       "<style>#notebook-container { margin-left:-14px; width:calc(100% + 27px) !important; }</style>"
      ],
      "text/plain": [
       "<IPython.core.display.HTML object>"
      ]
     },
     "metadata": {},
     "output_type": "display_data"
    }
   ],
   "source": [
    "# Boilerplate to load utils.ipynb\n",
    "# See https://github.com/CMU-CREATE-Lab/python-utils/blob/master/utils.ipynb\n",
    "\n",
    "import glob, io, json, os, re, requests, socket, subprocess\n",
    "import pandas as pd\n",
    "\n",
    "if not os.path.exists('python-utils'):\n",
    "    subprocess.check_output('git clone https://github.com/CMU-CREATE-Lab/python-utils.git', shell=True)\n",
    "\n",
    "def exec_ipynb(filename_or_url):\n",
    "    nb = (requests.get(filename_or_url).json() if re.match(r'https?:', filename_or_url) else json.load(open(filename_or_url)))\n",
    "    if(nb['nbformat'] >= 4):\n",
    "        src = [''.join(cell['source']) for cell in nb['cells'] if cell['cell_type'] == 'code']\n",
    "    else:\n",
    "        src = [''.join(cell['input']) for cell in nb['worksheets'][0]['cells'] if cell['cell_type'] == 'code']\n",
    "    exec('\\n'.join(src), globals())\n",
    "\n",
    "exec_ipynb('python-utils/utils.ipynb')\n",
    "notebook_wide_display()"
   ]
  },
  {
   "cell_type": "code",
   "execution_count": 101,
   "metadata": {},
   "outputs": [],
   "source": [
    "# Read UPS names and serial numbers from this sheet\n",
    "googleSheetUrl = 'https://docs.google.com/spreadsheets/d/1Klk0muDZlaXZkiyBQ8cIo9bMA6UESIPlLmFzHxszgl0/edit#gid=0'"
   ]
  },
  {
   "cell_type": "code",
   "execution_count": 102,
   "metadata": {},
   "outputs": [],
   "source": [
    "Stat.set_service('UPS')"
   ]
  },
  {
   "cell_type": "code",
   "execution_count": 103,
   "metadata": {},
   "outputs": [
    {
     "name": "stdout",
     "output_type": "stream",
     "text": [
      "Found 2 APC UPSs connected by USB, serial numbers ['3B1923X20021', '3B1923X20093']\n"
     ]
    }
   ],
   "source": [
    "# Get serial numbers for APC devices\n",
    "serialNumbers = []\n",
    "\n",
    "for line in subprocess_check(\"lsusb -v -d 051d: | grep iSerial\").split('\\n'):\n",
    "    tokens = line.split()\n",
    "    if len(tokens) == 3:\n",
    "        serialNumbers.append(tokens[2])\n",
    "\n",
    "serialNumbers = sorted(serialNumbers)\n",
    "\n",
    "print('Found %d APC UPSs connected by USB, serial numbers %s' % (len(serialNumbers), serialNumbers))"
   ]
  },
  {
   "cell_type": "code",
   "execution_count": 104,
   "metadata": {},
   "outputs": [
    {
     "data": {
      "text/plain": [
       "''"
      ]
     },
     "execution_count": 104,
     "metadata": {},
     "output_type": "execute_result"
    }
   ],
   "source": [
    "# Kill existing processes\n",
    "subprocess_check('killall upsd usbhid-ups', ignore_error=True)"
   ]
  },
  {
   "cell_type": "code",
   "execution_count": 105,
   "metadata": {},
   "outputs": [
    {
     "name": "stdout",
     "output_type": "stream",
     "text": [
      "Creating /etc/nut/nut.conf\n"
     ]
    },
    {
     "data": {
      "text/plain": [
       "37"
      ]
     },
     "execution_count": 105,
     "metadata": {},
     "output_type": "execute_result"
    }
   ],
   "source": [
    "print('Creating /etc/nut/nut.conf')\n",
    "open('/etc/nut/nut.conf', 'w').write('# Created by upsstat\\nMODE=standalone\\n')"
   ]
  },
  {
   "cell_type": "code",
   "execution_count": 106,
   "metadata": {},
   "outputs": [
    {
     "name": "stdout",
     "output_type": "stream",
     "text": [
      "Creating /etc/nut/ups.conf\n",
      "Device 0: serial=3B1923X20021\n",
      "Device 1: serial=3B1923X20093\n"
     ]
    }
   ],
   "source": [
    "print('Creating /etc/nut/ups.conf')\n",
    "with open('/etc/nut/ups.conf', 'w') as ups_conf:\n",
    "    ups_conf.write('# Created by upsstat\\n')\n",
    "    ups_conf.write('maxretry = 3\\n')\n",
    "    for i, serialNumber in enumerate(serialNumbers):\n",
    "        print('Device %d: serial=%s' % (i, serialNumber))\n",
    "        ups_conf.write('[%d]\\n' % i)\n",
    "        ups_conf.write('    driver = usbhid-ups\\n')\n",
    "        ups_conf.write('    serial = %s\\n' % serialNumber)\n",
    "        ups_conf.write('    port = auto\\n')\n",
    "    "
   ]
  },
  {
   "cell_type": "code",
   "execution_count": 107,
   "metadata": {},
   "outputs": [
    {
     "name": "stdout",
     "output_type": "stream",
     "text": [
      "upsdrvctl start 0\n",
      "Using subdriver: APC HID 0.96\n",
      "Network UPS Tools - Generic HID driver 0.41 (2.7.4)\n",
      "USB communication driver 0.33\n",
      "Network UPS Tools - UPS driver controller 2.7.4\n",
      "upsdrvctl start 1\n",
      "Using subdriver: APC HID 0.96\n",
      "Network UPS Tools - Generic HID driver 0.41 (2.7.4)\n",
      "USB communication driver 0.33\n",
      "Network UPS Tools - UPS driver controller 2.7.4\n"
     ]
    }
   ],
   "source": [
    "for i, serialNumber in enumerate(serialNumbers):\n",
    "    cmd = '/sbin/upsdrvctl start %d' % i\n",
    "    subprocess_check(cmd, verbose=True)"
   ]
  },
  {
   "cell_type": "code",
   "execution_count": 108,
   "metadata": {},
   "outputs": [
    {
     "name": "stdout",
     "output_type": "stream",
     "text": [
      "upsd\n",
      "fopen /var/run/nut/upsd.pid: No such file or directory\n",
      "listening on 127.0.0.1 port 3493\n",
      "listening on ::1 port 3493\n",
      "Connected to UPS [1]: usbhid-ups-1\n",
      "Connected to UPS [0]: usbhid-ups-0\n"
     ]
    },
    {
     "data": {
      "text/plain": [
       "'fopen /var/run/nut/upsd.pid: No such file or directory\\nlistening on 127.0.0.1 port 3493\\nlistening on ::1 port 3493\\nConnected to UPS [1]: usbhid-ups-1\\nConnected to UPS [0]: usbhid-ups-0\\n'"
      ]
     },
     "execution_count": 108,
     "metadata": {},
     "output_type": "execute_result"
    }
   ],
   "source": [
    "subprocess_check('/sbin/upsd', verbose=True)"
   ]
  },
  {
   "cell_type": "code",
   "execution_count": null,
   "metadata": {},
   "outputs": [],
   "source": [
    "def upsc(id):\n",
    "    ret = {}\n",
    "    for line in subprocess_check('upsc %s' % id).split('\\n'):\n",
    "        tokens = line.split(':')\n",
    "        if len(tokens) == 2:\n",
    "            key = tokens[0].strip()\n",
    "            val = tokens[1].strip()\n",
    "            try:\n",
    "                val = float(val)\n",
    "            except:\n",
    "                pass\n",
    "            ret[key] = val\n",
    "    return ret\n",
    "\n",
    "\n",
    "def checkUps(id, serialNumber, config):\n",
    "    stat = upsc(id)\n",
    "    errors = []\n",
    "    maxLoad = 90 # percent\n",
    "    if stat['input.voltage'] <= stat['input.transfer.low']:\n",
    "        errors.append('Power out or input voltage low')\n",
    "    if stat['ups.load'] > maxLoad:\n",
    "        errors.append('High load %d%% (test >%d%%)' % (stat['ups.load'], maxLoad))\n",
    "\n",
    "    name = serialNumber\n",
    "    machines = ''\n",
    "    \n",
    "    details = 'In: %dV, Out load %d%%, Batt charge %d%%, S/N %s' % (\n",
    "        stat['input.voltage'], stat['ups.load'], stat['battery.charge'], serialNumber)\n",
    "\n",
    "    try:\n",
    "        name = config.loc[serialNumber, 'Name'].strip()\n",
    "        details += ', Powering %s' % config.loc[serialNumber, 'Machines'].strip()\n",
    "        details += '.  <a href=\"%s\">config</a>' % googleSheetUrl\n",
    "    except:\n",
    "        details +='.  Please put S/N in <a href=\"%s\">Google sheet<a>' % googleSheetUrl\n",
    "\n",
    "    if errors:\n",
    "        Stat.down('; '.join(errors), details, host=name)\n",
    "    else:\n",
    "        Stat.up('Working normally', details, host=name)\n",
    "\n",
    "def sheetUrl2CsvUrl(sheetUrl):\n",
    "    tokens = sheetUrl.split('/')\n",
    "    assert(len(tokens) == 7)\n",
    "    assert(tokens[4] == 'd')\n",
    "    docHash = tokens[5]\n",
    "    assert(len(docHash) > 20)\n",
    "    edit = tokens[6]\n",
    "    assert edit[0:9] == 'edit#gid='\n",
    "    gid = edit[9:]\n",
    "    return 'https://docs.google.com/spreadsheets/d/' + docHash + '/export?format=csv&gid=' + gid"
   ]
  },
  {
   "cell_type": "code",
   "execution_count": 111,
   "metadata": {},
   "outputs": [
    {
     "name": "stdout",
     "output_type": "stream",
     "text": [
      "Stat.log up UPS NSH4629A Working normally In: 119V, Out load 13%, Batt charge 100%, S/N 3B1923X20021, Powering HAL40-41?.  <a href=\"https://docs.google.com/spreadsheets/d/1Klk0muDZlaXZkiyBQ8cIo9bMA6UESIPlLmFzHxszgl0/edit#gid=0\">config</a>\n",
      "Stat.log up UPS NSH4629B Working normally In: 119V, Out load 14%, Batt charge 100%, S/N 3B1923X20093, Powering HAL42-44?.  <a href=\"https://docs.google.com/spreadsheets/d/1Klk0muDZlaXZkiyBQ8cIo9bMA6UESIPlLmFzHxszgl0/edit#gid=0\">config</a>\n"
     ]
    }
   ],
   "source": [
    "while True:\n",
    "    sheetContent = requests.get(sheetUrl2CsvUrl(googleSheetUrl)).content\n",
    "    config = pd.read_csv(io.BytesIO(sheetContent), na_filter=False, index_col='SerialNumber')\n",
    "\n",
    "    for id, serialNumber in enumerate(serialNumbers):\n",
    "        checkUps(id, serialNumber, config)\n",
    "        \n",
    "    sleep_until_next_period(60)"
   ]
  }
 ],
 "metadata": {
  "kernelspec": {
   "display_name": "Python 3",
   "language": "python",
   "name": "python3"
  },
  "language_info": {
   "codemirror_mode": {
    "name": "ipython",
    "version": 3
   },
   "file_extension": ".py",
   "mimetype": "text/x-python",
   "name": "python",
   "nbconvert_exporter": "python",
   "pygments_lexer": "ipython3",
   "version": "3.7.4"
  }
 },
 "nbformat": 4,
 "nbformat_minor": 2
}
